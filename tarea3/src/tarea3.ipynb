{
 "cells": [
  {
   "cell_type": "markdown",
   "id": "87f901d7-aa07-4410-af13-da18fe57d5bb",
   "metadata": {},
   "source": [
    "# Tarea #: 3\n",
    "\n",
    "## Tema: Clasificación de datos utilizando imágenes"
   ]
  },
  {
   "cell_type": "code",
   "execution_count": null,
   "id": "8a5688dd-b006-4e05-a86a-c4e0ea1d8105",
   "metadata": {},
   "outputs": [],
   "source": [
    "import glob\n",
    "import cv2\n",
    "import numpy as np\n",
    "import os\n",
    "from sklearn.linear_model import LogisticRegression\n",
    "from sklearn.model_selection import train_test_split\n",
    "from sklearn.metrics import confusion_matrix, accuracy_score\n",
    "from tensorflow.keras.models import Sequential\n",
    "from tensorflow.keras.layers import Conv2D, MaxPooling2D, Flatten, Dense\n",
    "from tensorflow.keras.utils import to_categorical\n",
    "from sklearn.metrics import confusion_matrix, ConfusionMatrixDisplay\n",
    "import matplotlib.pyplot as plt"
   ]
  },
  {
   "cell_type": "code",
   "execution_count": null,
   "id": "418b20dc-8a87-4bfe-ba1f-d53facd0648c",
   "metadata": {},
   "outputs": [],
   "source": [
    "def cargar_imagenes_y_labels(ruta_base, tamaño=(64, 64)):\n",
    "    X = []\n",
    "    y = []\n",
    "    clases = sorted([d for d in os.listdir(ruta_base) if os.path.isdir(os.path.join(ruta_base, d))])\n",
    "    clase_dict = {clase: idx for idx, clase in enumerate(clases)}\n",
    "    print(\"Clases encontradas:\", clase_dict)\n",
    "\n",
    "    for clase in clases:\n",
    "        ruta_clase = os.path.join(ruta_base, clase)\n",
    "        archivos = glob.glob(os.path.join(ruta_clase, \"*\"))\n",
    "        print(f\"Cargando {len(archivos)} imagenes de la clase '{clase}'\")\n",
    "\n",
    "        for archivo in archivos:\n",
    "            img = cv2.imread(archivo)\n",
    "            if img is not None:\n",
    "                img = cv2.resize(img, tamaño)\n",
    "                X.append(img)\n",
    "                y.append(clase_dict[clase])\n",
    "            else:\n",
    "                print(f\"No se pudo leer la imagen: {archivo}\")\n",
    "\n",
    "    print(f\"Total imagenes cargadas: {len(X)}\")\n",
    "    return np.array(X, dtype=np.float32) / 255.0, np.array(y), clase_dict"
   ]
  },
  {
   "cell_type": "code",
   "execution_count": 9,
   "id": "1f426ad0-73db-42f4-8fe0-aa6130f7698c",
   "metadata": {},
   "outputs": [
    {
     "name": "stdout",
     "output_type": "stream",
     "text": [
      "Clases encontradas: {'Black-grass': 0, 'Charlock': 1, 'Cleavers': 2, 'Common Chickweed': 3, 'Common wheat': 4, 'Fat Hen': 5, 'Loose Silky-bent': 6, 'Maize': 7, 'Scentless Mayweed': 8, 'Shepherds Purse': 9, 'Small-flowered Cranesbill': 10, 'Sugar beet': 11, 'cat': 12, 'cow': 13, 'dog': 14, 'horse': 15}\n",
      "Cargando 263 imágenes de la clase 'Black-grass'\n",
      "Cargando 390 imágenes de la clase 'Charlock'\n",
      "Cargando 287 imágenes de la clase 'Cleavers'\n",
      "Cargando 611 imágenes de la clase 'Common Chickweed'\n",
      "Cargando 221 imágenes de la clase 'Common wheat'\n",
      "Cargando 475 imágenes de la clase 'Fat Hen'\n",
      "Cargando 654 imágenes de la clase 'Loose Silky-bent'\n",
      "Cargando 221 imágenes de la clase 'Maize'\n",
      "Cargando 516 imágenes de la clase 'Scentless Mayweed'\n",
      "Cargando 231 imágenes de la clase 'Shepherds Purse'\n",
      "Cargando 496 imágenes de la clase 'Small-flowered Cranesbill'\n",
      "Cargando 385 imágenes de la clase 'Sugar beet'\n",
      "Cargando 164 imágenes de la clase 'cat'\n",
      "Cargando 164 imágenes de la clase 'cow'\n",
      "Cargando 164 imágenes de la clase 'dog'\n",
      "Cargando 164 imágenes de la clase 'horse'\n",
      "Total imágenes cargadas: 5406\n"
     ]
    }
   ],
   "source": [
    "X, y, clase_dict = cargar_imagenes_y_labels(\"data/train\")"
   ]
  },
  {
   "cell_type": "code",
   "execution_count": null,
   "id": "eec89d3f-8b52-438e-854c-9ce75df07b80",
   "metadata": {},
   "outputs": [],
   "source": [
    "X_train, X_val, y_train, y_val = train_test_split(X, y, test_size=0.2, random_state=42)\n",
    "\n",
    "X_train_flat = X_train.reshape(len(X_train), -1)\n",
    "X_val_flat = X_val.reshape(len(X_val), -1)\n"
   ]
  },
  {
   "cell_type": "code",
   "execution_count": null,
   "id": "935ada40-d586-42d7-b1c1-11de589f5e83",
   "metadata": {},
   "outputs": [],
   "source": [
    "model_lr = LogisticRegression(max_iter=1000)\n",
    "model_lr.fit(X_train_flat, y_train)\n",
    "\n",
    "y_pred_lr = model_lr.predict(X_val_flat)\n",
    "acc_lr = accuracy_score(y_val, y_pred_lr)\n",
    "print(\"Accuracy regresion logistica:\", acc_lr)"
   ]
  },
  {
   "cell_type": "code",
   "execution_count": null,
   "id": "0cecc07a-66fe-458a-834c-0d4212428354",
   "metadata": {},
   "outputs": [],
   "source": [
    "y_pred_lr = model_lr.predict(X_val_flat)\n",
    "\n",
    "cm_lr = confusion_matrix(y_val, y_pred_lr)\n",
    "ConfusionMatrixDisplay(cm_lr).plot()\n",
    "plt.title(\"Matriz de confusion regresion logistica\")\n",
    "plt.show()\n"
   ]
  },
  {
   "cell_type": "code",
   "execution_count": null,
   "id": "ca144c96-830a-4e31-b87a-615ad23c64a8",
   "metadata": {},
   "outputs": [],
   "source": [
    "y_train_cat = to_categorical(y_train, num_classes=len(clase_dict))\n",
    "y_val_cat = to_categorical(y_val, num_classes=len(clase_dict))\n",
    "\n",
    "cnn = Sequential([\n",
    "    Conv2D(32, (3, 3), activation='relu', input_shape=(64, 64, 3)),\n",
    "    MaxPooling2D((2, 2)),\n",
    "    Conv2D(64, (3, 3), activation='relu'),\n",
    "    MaxPooling2D((2, 2)),\n",
    "    Flatten(),\n",
    "    Dense(128, activation='relu'),\n",
    "    Dense(len(clase_dict), activation='softmax')\n",
    "])\n",
    "\n",
    "cnn.compile(optimizer='adam', loss='categorical_crossentropy', metrics=['accuracy'])\n",
    "\n",
    "cnn.fit(X_train, y_train_cat, epochs=10, validation_data=(X_val, y_val_cat))"
   ]
  },
  {
   "cell_type": "code",
   "execution_count": null,
   "id": "dcb560cb-7e68-4eaa-80a8-7aca15a6a89a",
   "metadata": {},
   "outputs": [],
   "source": [
    "y_pred_cnn = cnn.predict(X_val)\n",
    "y_pred_cnn_labels = np.argmax(y_pred_cnn, axis=1)\n",
    "\n",
    "cm_cnn = confusion_matrix(y_val, y_pred_cnn_labels)\n",
    "ConfusionMatrixDisplay(cm_cnn).plot()\n",
    "plt.title(\"Matriz de confusion CNN\")\n",
    "plt.show()"
   ]
  },
  {
   "cell_type": "code",
   "execution_count": null,
   "id": "bb8aed16-f6d6-4ae3-8406-c14277264814",
   "metadata": {},
   "outputs": [],
   "source": [
    "def cargar_imagenes_test(ruta_test, tamaño=(64, 64)):\n",
    "    X_test = []\n",
    "    nombres = []\n",
    "    archivos = sorted(glob.glob(os.path.join(ruta_test, \"*\")))\n",
    "    print(f\"imagenes en test: {len(archivos)}\")\n",
    "\n",
    "    for archivo in archivos:\n",
    "        img = cv2.imread(archivo)\n",
    "        if img is not None:\n",
    "            img = cv2.resize(img, tamaño)\n",
    "            X_test.append(img)\n",
    "            nombres.append(os.path.basename(archivo))\n",
    "        else:\n",
    "            print(f\"No se pudo leer la imagen: {archivo}\")\n",
    "\n",
    "    X_test = np.array(X_test, dtype=np.float32) / 255.0\n",
    "    return X_test, nombres\n"
   ]
  },
  {
   "cell_type": "code",
   "execution_count": 25,
   "id": "9f63e7a4-a446-423f-8740-9e27661b1e4a",
   "metadata": {},
   "outputs": [
    {
     "name": "stdout",
     "output_type": "stream",
     "text": [
      "Total imágenes en test: 962\n"
     ]
    }
   ],
   "source": [
    "X_test, test_names = cargar_imagenes_test(\"data/test\")"
   ]
  },
  {
   "cell_type": "code",
   "execution_count": 28,
   "id": "687acc0b-5bbf-481b-9469-6bef1d8440dc",
   "metadata": {},
   "outputs": [
    {
     "name": "stdout",
     "output_type": "stream",
     "text": [
      "✅ CSV de regresión logística guardado como 'predicciones_logistica.csv'\n"
     ]
    }
   ],
   "source": [
    "X_test_flat = X_test.reshape(len(X_test), -1)\n",
    "y_test_pred_lr = model_lr.predict(X_test_flat)\n",
    "\n",
    "idx_to_class = {v: k for k, v in clase_dict.items()}\n",
    "labels_lr = [idx_to_class[i] for i in y_test_pred_lr]\n",
    "\n",
    "# Exportar CSV\n",
    "import pandas as pd\n",
    "\n",
    "df_lr = pd.DataFrame({\n",
    "    \"file\": test_names,\n",
    "    \"label\": labels_lr\n",
    "})\n",
    "df_lr.to_csv(\"predicciones_logistica.csv\", index=False)\n",
    "print(\"generado correctamente\")\n"
   ]
  },
  {
   "cell_type": "code",
   "execution_count": 29,
   "id": "c8926dd5-096a-45aa-a16b-555affd8432d",
   "metadata": {},
   "outputs": [
    {
     "name": "stdout",
     "output_type": "stream",
     "text": [
      "\u001b[1m31/31\u001b[0m \u001b[32m━━━━━━━━━━━━━━━━━━━━\u001b[0m\u001b[37m\u001b[0m \u001b[1m1s\u001b[0m 21ms/step\n",
      "✅ CSV de CNN guardado como 'predicciones_cnn.csv'\n"
     ]
    }
   ],
   "source": [
    "y_test_pred_cnn = cnn.predict(X_test)\n",
    "y_test_pred_cnn_labels = np.argmax(y_test_pred_cnn, axis=1)\n",
    "\n",
    "labels_cnn = [idx_to_class[i] for i in y_test_pred_cnn_labels]\n",
    "\n",
    "df_cnn = pd.DataFrame({\n",
    "    \"file\": test_names,\n",
    "    \"label\": labels_cnn\n",
    "})\n",
    "df_cnn.to_csv(\"predicciones_cnn.csv\", index=False)\n",
    "print(\"generado correctamente\")\n"
   ]
  },
  {
   "cell_type": "markdown",
   "id": "44a0c84c-7f05-4731-886a-dc623d91f145",
   "metadata": {},
   "source": [
    "## Comparación de Accuracy"
   ]
  },
  {
   "cell_type": "code",
   "execution_count": 30,
   "id": "687fc422-afba-4fc2-bbd0-1d0b22946f9a",
   "metadata": {},
   "outputs": [
    {
     "name": "stdout",
     "output_type": "stream",
     "text": [
      "Accuracy de regresión logística: 0.4436229205175601\n",
      "Accuracy de red convolucional: 0.7181146025878004\n"
     ]
    }
   ],
   "source": [
    "print(\"Accuracy de regresion logistica:\", accuracy_score(y_val, y_pred_lr))\n",
    "print(\"Accuracy de red convolucional:\", accuracy_score(y_val, y_pred_cnn_labels))\n"
   ]
  },
  {
   "cell_type": "markdown",
   "id": "08473511-ec88-42f3-830b-a2bfb35e89d7",
   "metadata": {},
   "source": [
    "La red convolucional demostró un desempeño superior frente al modelo de regresion logistica."
   ]
  },
  {
   "cell_type": "code",
   "execution_count": null,
   "id": "9f216986-08ea-4e97-a58b-8fbdc63f2001",
   "metadata": {},
   "outputs": [],
   "source": []
  }
 ],
 "metadata": {
  "kernelspec": {
   "display_name": "Python 3 (ipykernel)",
   "language": "python",
   "name": "python3"
  },
  "language_info": {
   "codemirror_mode": {
    "name": "ipython",
    "version": 3
   },
   "file_extension": ".py",
   "mimetype": "text/x-python",
   "name": "python",
   "nbconvert_exporter": "python",
   "pygments_lexer": "ipython3",
   "version": "3.11.9"
  }
 },
 "nbformat": 4,
 "nbformat_minor": 5
}
