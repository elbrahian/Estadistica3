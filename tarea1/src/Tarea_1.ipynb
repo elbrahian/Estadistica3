{
 "cells": [
  {
   "cell_type": "markdown",
   "id": "d789026b-3019-4bdd-ac7d-500659240cad",
   "metadata": {},
   "source": [
    "Librerias"
   ]
  },
  {
   "cell_type": "code",
   "execution_count": null,
   "id": "3acea7e3-c1c8-4ada-b8cf-78e4ce0792d8",
   "metadata": {},
   "outputs": [],
   "source": [
    "import pandas as pd\n",
    "import numpy as np\n",
    "import matplotlib.pyplot as plt\n",
    "import seaborn as sns\n",
    "from sklearn.preprocessing import StandardScaler\n",
    "from sklearn.decomposition import PCA\n",
    "import scipy.stats as stats\n",
    "from scipy.cluster.hierarchy import dendrogram, linkage\n",
    "from scipy.stats import shapiro, ks_2samp\n",
    "from PIL import Image\n",
    "import os\n",
    "import plotly.express as px\n",
    "import plotly.graph_objects as go\n",
    "from sklearn.model_selection import train_test_split\n",
    "from sklearn.linear_model import LinearRegression\n",
    "from sklearn.impute import SimpleImputer"
   ]
  },
  {
   "cell_type": "markdown",
   "id": "cdd3881f-17cb-4f87-8fba-45cd57e37684",
   "metadata": {},
   "source": [
    "cargar datos cities "
   ]
  },
  {
   "cell_type": "code",
   "execution_count": null,
   "id": "3f961b0d-95f0-4110-8c06-6ef51be083bc",
   "metadata": {},
   "outputs": [],
   "source": [
    "\n",
    "\n",
    "df = pd.read_excel('data/datacities.xlsx')\n",
    "df.head()  # Muestra las primeras filas para verificar\n"
   ]
  },
  {
   "cell_type": "markdown",
   "id": "cebe3b13-f862-4d85-9385-1349b6f03a18",
   "metadata": {},
   "source": [
    "1.1 calcular media, mediana, desviacion estandar, la moda y  los \n",
    "valores repeticiones de la moda para los datos categóricos. \n"
   ]
  },
  {
   "cell_type": "code",
   "execution_count": null,
   "id": "eae63ed2-6132-41e4-8135-08e5a92288dc",
   "metadata": {},
   "outputs": [],
   "source": [
    "\n",
    "# Calcular medidas de tendencia central\n",
    "media = df.mean(numeric_only=True)\n",
    "mediana = df.median(numeric_only=True)\n",
    "desviacion = df.std(numeric_only=True)\n",
    "moda = df.mode().iloc[0]  # Se toma la primera fila ya que mode() puede retornar varias\n",
    "categorical_cols = [\"Label\"]\n",
    "\n",
    "print(\"Media:\\n\", media)\n",
    "print(\"\\nMediana:\\n\", mediana)\n",
    "print(\"\\nDesviación estándar:\\n\", desviacion)\n",
    "print(\"\\nModa:\\n\", moda)\n",
    "for col in categorical_cols:\n",
    "    print(f\"\\nModa y repeticiones en {col}:\")\n",
    "    print(df[col].value_counts())"
   ]
  },
  {
   "cell_type": "markdown",
   "id": "2d0f1ab9-6dce-494e-b2bd-157dbea5b582",
   "metadata": {},
   "source": [
    "1.2 Dibujar el Boxplot"
   ]
  },
  {
   "cell_type": "code",
   "execution_count": null,
   "id": "96dfa3bb-8134-4e99-9e92-80db0f6fab54",
   "metadata": {},
   "outputs": [],
   "source": [
    "fig, axs = plt.subplots(1, len(df.columns), figsize=(20,5))\n",
    "for i, column in enumerate(df.columns):\n",
    "    sns.boxplot(y=df[column], ax=axs[i])\n",
    "    axs[i].set_title(column)\n",
    "plt.tight_layout()\n",
    "plt.show()\n"
   ]
  },
  {
   "cell_type": "markdown",
   "id": "fcc5e7c2-be67-4197-b3ca-886349aadd23",
   "metadata": {},
   "source": [
    "1.3 Covarianza"
   ]
  },
  {
   "cell_type": "code",
   "execution_count": null,
   "id": "2d193c28-28c7-4b4e-a4d0-97e0c7c0a146",
   "metadata": {},
   "outputs": [],
   "source": [
    "covarianza = df[[\"GDP\", \"Population\"]].cov()\n",
    "print(\"\\nCovarianza:\\n\", covarianza)\n"
   ]
  },
  {
   "cell_type": "markdown",
   "id": "2ec5fa63-b041-4284-ae82-c0dd51d80bfc",
   "metadata": {},
   "source": [
    "1.4 Correlacion"
   ]
  },
  {
   "cell_type": "code",
   "execution_count": null,
   "id": "f365b2ab-2ffa-490d-9026-a86c46ccb21c",
   "metadata": {},
   "outputs": [],
   "source": [
    "correlacion = df[[\"GDP\", \"Population\"]].corr()\n",
    "print(\"\\nCorrelación:\\n\", correlacion)\n"
   ]
  },
  {
   "cell_type": "markdown",
   "id": "e88c6215-bdd8-44d3-9b31-59fc3dfed2d5",
   "metadata": {},
   "source": [
    "1.5 Relacion entre Covarianza y Correlacion\n",
    "\n",
    "La covarianza indica la dirección de la relación entre las dos variables.\n",
    "\n",
    "La correlación indica tanto la dirección como la fuerza de la relación, y es más útil para interpretar y comparar."
   ]
  },
  {
   "cell_type": "markdown",
   "id": "108babfd-09b8-4649-afdc-92c2d2e6a588",
   "metadata": {},
   "source": [
    "1.6 K_means kaggle"
   ]
  },
  {
   "cell_type": "code",
   "execution_count": 1,
   "id": "74f3a5ca-8c0d-43a8-94fd-6188bf48b63a",
   "metadata": {},
   "outputs": [
    {
     "name": "stdout",
     "output_type": "stream",
     "text": [
      "Archivo guardado como ciudades_brahian_rueda.csv\n"
     ]
    }
   ],
   "source": [
    "# Datos del K_MEANS de excel\n",
    "ciudades_training = {\n",
    "    \"Bogotá\": [17.02937, 22.58249, 6.34590, 18.74062],\n",
    "    \"Medellín\": [8.19947, 15.03989, 6.34590, 11.19803],\n",
    "    \"Pereira\": [1.96461, 7.39577, 11.86207, 4.09654],\n",
    "    \"Florencia\": [6.36711, 1.12349, 18.33788, 3.36855],\n",
    "    \"Montería\": [4.19568, 2.64474, 16.16645, 1.19712]\n",
    "}\n",
    "\n",
    "ciudades_testing = {\n",
    "    \"Bucaramanga\": [3.42715, 8.98027, 12.29139, 5.31534],\n",
    "    \"Cúcuta\": [5.50758, 1.69725, 17.11394, 2.25697],\n",
    "    \"Ibagué\": [0.92759, 6.38245, 12.42874, 4.21655],\n",
    "    \"Villavicencio\": [3.79791, 3.32264, 15.48855, 1.23386],\n",
    "    \"Pasto\": [1.33826, 6.29685, 12.51434, 4.30216],\n",
    "    \"Riohacha\": [6.22680, 1.01799, 18.19757, 3.22824],\n",
    "    \"Arauca\": [5.16005, 2.91623, 16.30740, 1.33808],\n",
    "    \"Mocoa\": [3.19402, 4.12802, 15.16479, 5.34466],\n",
    "    \"Puerto Carreño\": [12.55339, 5.71297, 24.52416, 9.55484]\n",
    "}\n",
    "\n",
    "# Función para encontrar el centroide más cercano\n",
    "def centroide_mas_cercano(distancias):\n",
    "    min_dist = float(\"inf\")\n",
    "    centroide_index = -1\n",
    "    for i in range(len(distancias)):\n",
    "        if distancias[i] < min_dist:\n",
    "            min_dist = distancias[i]\n",
    "            centroide_index = i\n",
    "    return centroide_index  # Devuelve el índice del centroide más cercano\n",
    "\n",
    "# Generar el resultado corregido\n",
    "resultado = []\n",
    "for ciudad, distancias in ciudades_testing.items():\n",
    "    # Encontrar el centroide más cercano\n",
    "    centroide_idx = centroide_mas_cercano(distancias)\n",
    "    \n",
    "    # Encontrar la ciudad de training más cercana dentro del mismo centroide\n",
    "    ciudad_mas_cercana = None\n",
    "    min_dist = float(\"inf\")\n",
    "    \n",
    "    for ciudad_train, distancias_train in ciudades_training.items():\n",
    "        if distancias_train[centroide_idx] < min_dist:\n",
    "            min_dist = distancias_train[centroide_idx]\n",
    "            ciudad_mas_cercana = ciudad_train\n",
    "    \n",
    "    # Guardar el resultado corregido\n",
    "    resultado.append((ciudad, ciudad_mas_cercana))\n",
    "\n",
    "# Guardar en un archivo CSV\n",
    "csv_filename = \"ciudades_brahian_rueda.csv\"\n",
    "with open(csv_filename, \"w\") as file:\n",
    "    file.write(\"ID,label\\n\")  # Escribir la cabecera\n",
    "    for id_ciudad, label in resultado:\n",
    "        file.write(f\"{id_ciudad},{label}\\n\")\n",
    "\n",
    "print(f\"Archivo guardado como {csv_filename}\")\n"
   ]
  },
  {
   "cell_type": "markdown",
   "id": "ea7bd263-d3ad-4d44-8333-765db9ed5607",
   "metadata": {},
   "source": [
    "1.7 Dendograma"
   ]
  },
  {
   "cell_type": "code",
   "execution_count": null,
   "id": "26c85c7b-641f-4104-853a-7d2d46f54288",
   "metadata": {},
   "outputs": [],
   "source": [
    "city_names = df[\"City\"].values\n",
    "df_numeric = df.drop(columns=['City','Initial Label', 'Label'])\n",
    "# Aplicar clustering (distancia máxima)\n",
    "Z = linkage(df_numeric, method='complete')\n",
    "# Graficar el dendrograma\n",
    "plt.figure(figsize=(12, 6))\n",
    "dendrogram(Z, labels=city_names, leaf_rotation=90, leaf_font_size=10)\n",
    "plt.title(\"Dendrograma\")\n",
    "plt.xlabel(\"ciudades\")\n",
    "plt.ylabel(\"Distancia\")\n",
    "plt.show()"
   ]
  },
  {
   "cell_type": "markdown",
   "id": "4208be61-27e4-4683-9cf3-343a00e5eb64",
   "metadata": {},
   "source": [
    "2. PCA\n",
    "    Utilizar los datos de la tabla 1, para calcular PCA y reducir la \n",
    "    dimensionalidad de 2 dimensiones a 1. Para este ejercicio se debe utilizar las \n",
    "    variables GDP (USD Billion) y Population (Millions) para crear un vector con una \n",
    "    sola dimensión. "
   ]
  },
  {
   "cell_type": "code",
   "execution_count": null,
   "id": "0852ab5e-22e7-4fe6-b8b9-a0423595e791",
   "metadata": {},
   "outputs": [],
   "source": [
    "datos_PCA = df[[\"GDP\", \"Population\"]]\n",
    "datos_PCA = df[[\"GDP\", \"Population\"]]\n",
    "#Normalizamos los datos\n",
    "escalador = StandardScaler()\n",
    "datos_normalizados = escalador.fit_transform(datos_PCA)\n",
    "#centralizamos los datos\n",
    "centralizados = datos_PCA - datos_PCA.mean()"
   ]
  },
  {
   "cell_type": "markdown",
   "id": "ca2dd7c5-43d7-4586-810f-a521c7e1583f",
   "metadata": {},
   "source": [
    "2.1 Cual es la matriz de covarianza "
   ]
  },
  {
   "cell_type": "code",
   "execution_count": null,
   "id": "ec185bf7-f8a4-418a-83b2-8bacc37b4e10",
   "metadata": {},
   "outputs": [],
   "source": [
    "#matriz covarianza\n",
    "cov = datos_PCA.cov()\n",
    "cov"
   ]
  },
  {
   "cell_type": "markdown",
   "id": "8c4204c9-cec3-49d2-b1c6-e4ee9e95f6a8",
   "metadata": {},
   "source": [
    "2.2 Cuales son los eigenvalues "
   ]
  },
  {
   "cell_type": "code",
   "execution_count": null,
   "id": "ae33d345-3897-4cc7-b581-681905d12fb0",
   "metadata": {},
   "outputs": [],
   "source": [
    "# eigenvalues\n",
    "cov_array = cov.values\n",
    "eigenvalues, eigenvector = np.linalg.eig(cov_array)\n",
    "print(eigenvalues)\n"
   ]
  },
  {
   "cell_type": "markdown",
   "id": "b26753a4-d772-47d6-828c-79222afb8d24",
   "metadata": {},
   "source": [
    "2.3 Cuál es la varianza explicada por el eigenvalue. "
   ]
  },
  {
   "cell_type": "code",
   "execution_count": null,
   "id": "5dfa46af-a857-4742-afed-acc834f89162",
   "metadata": {},
   "outputs": [],
   "source": [
    "#Varianza explicada\n",
    "explained_variance_ratio = eigenvalues / np.sum(eigenvalues)\n",
    "print(\"Varianza explicada por componente:\\n\", explained_variance_ratio)\n"
   ]
  },
  {
   "cell_type": "markdown",
   "id": "f25059ac-a16b-43eb-95a0-ed0d178fd006",
   "metadata": {},
   "source": [
    "2.4 Cual es el valor del eigenvector "
   ]
  },
  {
   "cell_type": "code",
   "execution_count": null,
   "id": "fee0de4f-eff9-4298-b14a-bded65577b93",
   "metadata": {},
   "outputs": [],
   "source": [
    "#eigenvector\n",
    "print(eigenvector)"
   ]
  },
  {
   "cell_type": "markdown",
   "id": "5a7b0c68-3923-4ee2-9aab-241abf49c2e4",
   "metadata": {},
   "source": [
    "2.5 Cuál es la matriz proyectada. "
   ]
  },
  {
   "cell_type": "code",
   "execution_count": null,
   "id": "9e45c956-a68e-4312-8534-184433ceb56b",
   "metadata": {},
   "outputs": [],
   "source": [
    "#Matriz proyectada\n",
    "matriz_proyectada = np.dot(centralizados, eigenvector)\n",
    "print(matriz_proyectada)"
   ]
  },
  {
   "cell_type": "markdown",
   "id": "40ecfd5e-a0ae-4e50-bc58-fb72daf0fe50",
   "metadata": {},
   "source": [
    "2.5 Cual es el error o diferencia entre la matriz proyectada "
   ]
  },
  {
   "cell_type": "code",
   "execution_count": null,
   "id": "4a26c4ec-dc2f-4e0a-9149-2677ddd48a19",
   "metadata": {},
   "outputs": [],
   "source": [
    "#error o diferencia entre la matriz proyectada\n",
    "error_M = datos_PCA - matriz_proyectada\n",
    "print(error_M)"
   ]
  },
  {
   "cell_type": "code",
   "execution_count": null,
   "id": "8ca7a811-5ccb-4a46-831d-8f40c8e59928",
   "metadata": {},
   "outputs": [],
   "source": [
    "#reducir a una dimension\n",
    "pca = PCA(n_components=1)\n",
    "datos_reducidos = pca.fit_transform(datos_normalizados)\n",
    "print(datos_reducidos)"
   ]
  },
  {
   "cell_type": "markdown",
   "id": "6f13c5f4-dfaf-48b9-a5a6-67504ed68112",
   "metadata": {},
   "source": [
    "2.7 Pintar todas las ciudades en 1 dimensión"
   ]
  },
  {
   "cell_type": "code",
   "execution_count": null,
   "id": "f134ae5d-ffed-4673-9bd1-c433c6ecd19b",
   "metadata": {},
   "outputs": [],
   "source": [
    "#ciudades en 1D\n",
    "#crear grafico\n",
    "plt.figure(figsize=(15, 6))\n",
    "plt.scatter(datos_reducidos, np.zeros_like(datos_reducidos), color='r', alpha=0.9)\n",
    "#etiquetas ciudad\n",
    "for i, city in enumerate(df[\"City\"]):\n",
    "    plt.text(datos_reducidos[i], 0, city, fontsize=12, ha='center', rotation=90)\n",
    "#configurar grafico\n",
    "plt.axhline(0, color='black', linestyle='--', alpha=0.5)\n",
    "plt.title(\"Ciudades proyectadas en 1D (PCA)\")\n",
    "plt.yticks([])\n",
    "plt.show()\n"
   ]
  },
  {
   "cell_type": "markdown",
   "id": "3a702c58-e5ad-486d-b536-d178c0ade634",
   "metadata": {},
   "source": [
    "2.8 Utilizar python para pintar todas las ciudades en 2 dimensiones"
   ]
  },
  {
   "cell_type": "code",
   "execution_count": null,
   "id": "5dd66811-40b0-4f67-a1ec-345a1411cb1e",
   "metadata": {},
   "outputs": [],
   "source": [
    "#ciudades en 2D\n",
    "#Aplicar PCA para reducir a 2d\n",
    "pca_2D = PCA(n_components=2)\n",
    "datos_pca_2D = pca_2D.fit_transform(datos_normalizados)\n",
    "#crear grafico\n",
    "plt.figure(figsize=(8, 6))\n",
    "plt.scatter(datos_pca_2D[:, 0], datos_pca_2D[:, 1], color='r', alpha=0.7)\n",
    "#etiquetas ciudades\n",
    "for i, city in enumerate(df[\"City\"]):\n",
    "    plt.text(datos_pca_2D[i, 0], datos_pca_2D[i, 1], city, fontsize=9, ha='right')\n",
    "#configurar grafico\n",
    "plt.axhline(0, color='gray', linestyle='--', alpha=0.5)\n",
    "plt.axvline(0, color='gray', linestyle='--', alpha=0.5)\n",
    "plt.title(\"Ciudades proyectadas en 2D (PCA)\")\n",
    "plt.xlabel(\"Componente Principal 1\")\n",
    "plt.ylabel(\"Componente Principal 2\")\n",
    "plt.show()\n"
   ]
  },
  {
   "cell_type": "markdown",
   "id": "86f17576-fd47-49b2-a873-9ce3b3e9ee97",
   "metadata": {},
   "source": [
    "3. Utiliza las variables GDP (USD Billion) y Population (Millions) para \n",
    "crear una regresión. X es la población, y es el GDP. "
   ]
  },
  {
   "cell_type": "markdown",
   "id": "92641a21-2d71-4a7e-8e5f-d28cc304c740",
   "metadata": {},
   "source": [
    "3.1 Calcular b0, b1 sin librerías. "
   ]
  },
  {
   "cell_type": "code",
   "execution_count": null,
   "id": "9b4a4f61-72e2-4561-98a6-eda5e0d4ef6e",
   "metadata": {},
   "outputs": [],
   "source": [
    "X = df[\"Population\"].tolist()  # Convertir a lista\n",
    "Y = df[\"GDP\"].tolist()      # Convertir a lista\n",
    "# Calcular promedios\n",
    "x_mean = sum(X) / len(X)\n",
    "y_mean = sum(Y) / len(Y)\n",
    "\n",
    "# Calcular b1\n",
    "numerador = sum((X[i] - x_mean) * (Y[i] - y_mean) for i in range(len(X)))\n",
    "denominador = sum((X[i] - x_mean) ** 2 for i in range(len(X)))\n",
    "b1 = numerador / denominador\n",
    "\n",
    "# Calcular b0\n",
    "b0 = y_mean - b1 * x_mean\n",
    "\n",
    "# Crear valores predichos para la línea de regresión\n",
    "Y_pred = [b0 + b1 * x for x in X]\n",
    "\n",
    "\n",
    "# Mostrar resultados\n",
    "print(f\"b0 (intercepto): {b0:.2f}\")\n",
    "print(f\"b1 (pendiente): {b1:.2f}\")"
   ]
  },
  {
   "cell_type": "markdown",
   "id": "e1d07e51-2f7b-41d2-8f14-920bd81fb208",
   "metadata": {},
   "source": [
    "3.2 Graficar la línea y los puntos"
   ]
  },
  {
   "cell_type": "code",
   "execution_count": null,
   "id": "f58a03ca-5a93-4630-8636-0fe742f71f98",
   "metadata": {},
   "outputs": [],
   "source": [
    "# Graficar los puntos y la línea de regresión\n",
    "plt.figure(figsize=(8, 5))\n",
    "plt.scatter(X, Y, color=\"blue\", label=\"Datos reales\")\n",
    "plt.plot(X, Y_pred, color=\"red\", label=f\"Regresión: y = {b0:.2f} + {b1:.2f}x\")\n",
    "plt.xlabel(\"Población (Millones)\")\n",
    "plt.ylabel(\"GDP (USD Billones)\")\n",
    "plt.title(\"Regresión lineal: GDP vs Población\")\n",
    "plt.legend()\n",
    "plt.grid()\n",
    "plt.show()"
   ]
  },
  {
   "cell_type": "markdown",
   "id": "57ab1958-62c3-4d67-88d3-901411d7c398",
   "metadata": {},
   "source": [
    "4. PCA"
   ]
  },
  {
   "cell_type": "code",
   "execution_count": null,
   "id": "bdaa0647-2c1d-49df-af27-4ca5e8b1e640",
   "metadata": {},
   "outputs": [],
   "source": [
    "\n",
    "train_faces = [1855,4729,3954,2886,3168,4943,2288,2872,5059,2618,3365,1432,5092,4140,1600,4372,3157,2085,1264,\n",
    "                4716,3533,3701,4524,1290,2415,2627,3391,2243,4988,5066,4386,2071,2875,2049,4944,4178,3953,2881,\n",
    "                1638,1852,3739,4381,3998,2076,3396,2244,5061,2620,1899,1297,2412,3706,4523,1263,4711,3534,1607,\n",
    "                4375,3150,2082,3362,1435,5095,4147,4986,5068,4388,2843,3991,2629,1890,4718,1864,4972,3965,3159,\n",
    "                2616,2424,2040,3192,4185,5057,2272,2888,3166,1631,4343,1403,4171,2286,3354,4515,3730,3502,1255,\n",
    "                4727,1609,3962,4975,4149,3708,1863,1897,1299,2844,3996,2078,3398,4981,3505,1252,4720,4512,3737,\n",
    "                1404,4176,2281,3353,3161,1636,4344,4182,5050,2275,2047,3195,2423,2611,3763,4546,4774,3551,2483,\n",
    "                4310,1662,3135,3909,3307,4122,1450,1696,2013,2221,3797,2645,4780,2477,4921,3338,3936,1239,1837,\n",
    "                4579,2448,2810,5209,4787,2470,3790,2642,2226,5003,1691,2014,2828,3300,4125,4919,1457,4317,1665,\n",
    "                3132,4773,3556,2484,3764,4541,2817,2219,1830,2689,3569,3931,4328,4926,1468,5035,1495,2210,2022,\n",
    "                5207,2446,3594,4583,2674,3560,4745,1237,4577,1839,2680,3752,4113,1461,3336,3104,3938,4321,1653,\n",
    "                3799,2479,1698,2821,3907,3309,4910,4548,1806,3103,4326,1654,4114,1466,4928,3331,4570,2687,3755,\n",
    "                3567,4742,1230,4584,2673,2441,3593,2025,2819,5200,5032,1492,2217,3558,1801,1459,4917,4319,3900,\n",
    "                2228,2826,4789,1298,1896,3399,4980,2079,2845,3997,4148,4974,1608,3963,3709,1862,2046,3194,4183,\n",
    "                5051,2274,2610,2422,4513,3736,3504,4721,1253,3160,4345,1637,4177,1405,2280,3352,1865,4719,3158,\n",
    "                3964,4973,4389,2842,3990,5069,4987,2628,1891,4170,1402,2287,3355,3167,2889,4342,1630,3503,4726,\n",
    "                1254,4514,3731,2425,2617,4184,5056,2273,2041,3193,3952,2880,1639,4179,4945,1853,3738,2048,2874,\n",
    "                4710,1262,3535,3707,4522,3363,5094,4146,1434,4374,1606,3151,2083,3397,2245,5060,4380,2077,3999,\n",
    "                1296,2413,2621,1898,5058,2873,2619,4728,1854,4942,2289,3169,3955,2887,2626,1291,2414,4387,2070,\n",
    "                3390,2242,5067,4989,4373,1601,3156,2084,3364,5093,4141,1433,3700,4525,4717,1265,3532,2440,3592,\n",
    "                4585,2672,1493,5033,2216,2818,2024,5201,1467,4929,4115,3330,3102,1655,4327,3566,1231,4743,4571,\n",
    "                2686,3754,2827,2229,4788,1800,3559,4318,3901,1458,4916,4576,1838,2681,3753,3561,1236,4744,3939,\n",
    "                3105,1652,4320,1460,4112,3337,2023,5206,1494,5034,2211,4582,2675,2447,3595,3308,4911,3906,4549,\n",
    "                1807,2478,3798,1699,2820,1664,4316,3133,3301,4918,1456,4124,3765,4540,4772,3557,2485,3791,2643,\n",
    "                4786,2471,1690,2829,2015,2227,5002,3568,1831,2688,4927,1469,3930,4329,2218,2816,2220,5005,1697,\n",
    "                2012,4781,2476,3796,2644,4775,3550,2482,3762,1809,4547,3306,1451,4123,1663,4311,3908,3134,2449,\n",
    "                2811,5208,3937,4920,3339,1836,4578,1238,1944,4638,3079,2997,3845,4852,2399,2963,5148,2709,3274,\n",
    "                4051,5183,1523,4263,1711,2194,3046,4607,1375,3422,3610,4435,1381,2504,2736,2352,3280,5177,4899,\n",
    "                4297,2160,2158,2964,4069,4855,2990,3842,1729,1943,3628,4290,2167,3889,2355,3287,5170,2731,1988,\n",
    "                1386,2503,3617,4432,4600,1372,3425,4264,1716,2193,3041,3273,5184,1524,5179,4897,4299,3880,2952,\n",
    "                2738,1981,4609,1975,4863,3048,3874,2707,2535,3083,2151,5146,4094,2363,3077,2999,4252,1720,4060,\n",
    "                1512,3245,2397,4404,3621,3413,4636,1344,1718,3873,4058,4864,3619,1972,1986,1388,2169,3887,2955,\n",
    "                3289,4890,3414,4631,1343,4403,3626,4067,1515,3242,2390,3070,4255,1727,5141,4093,2364,3084,2156,\n",
    "                2532,2700,3672,4457,1919,1317,4665,2592,3440,1773,4201,3818,3024,3216,1541,4033,1787,2102,2330,\n",
    "                5115,2754,3686,4691,2566,4830,3229,3827,1328,4468,1926,2559,2901,4696,2561,2753,3681,2337,5112,\n",
    "                1780,2939,2105,3211,1546,4808,4034,1774,4206,3023,1310,4662,2595,3447,3675,4450,2906,2308,1921,\n",
    "                2798,3478,3820,4239,1579,4837,1584,5124,2301,2133,3485,2557,4492,2765,3471,1326,4654,1928,4466,\n",
    "                3643,2791,1570,4002,3227,3829,3015,1742,4230,3688,2568,1789,2930,3816,3218,4801,1917,4459,1319,\n",
    "                3012,1745,4237,4839,1577,4005,3220,4461,3644,2796,3476,1321,4653,4495,2762,3482,2550,2908,2134,\n",
    "                1583,5123,2306,3449,1910,4806,1548,4208,3811,2339,2937,4698,1389,1987,3288,4891,3886,2954,2168,\n",
    "                4865,4059,1719,3872,3618,1973,3085,2157,5140,4092,2365,2701,2533,4402,3627,3415,1342,4630,3071,\n",
    "                1726,4254,1514,4066,3243,2391,1974,4608,3875,3049,4862,4298,3881,2953,4896,5178,2739,1980,1513,\n",
    "                4061,3244,2396,2998,3076,1721,4253,3412,1345,4637,4405,3620,2534,2706,5147,4095,2362,3082,2150,\n",
    "                2991,3843,1728,4854,4068,1942,3629,2965,2159,1373,4601,3424,3616,4433,3272,1525,4057,5185,1717,\n",
    "                4265,2192,3040,2354,3286,5171,4291,3888,2166,1387,2502,2730,1989,5149,2962,2708,4639,1945,4853,\n",
    "                2398,2996,3844,3078,2737,1380,2505,4296,2161,2353,3281,4898,5176,1710,4262,2195,3047,3275,1522,\n",
    "                4050,5182,3611,4434,1374,4606,3423,3483,2551,4494,2763,5122,1582,2307,2135,2909,4004,4838,1576,\n",
    "                3221,3013,4236,1744,3477,4652,1320,4460,3645,2797,2936,2338,4699,1911,3448,4209,3810,4807,1549,\n",
    "                1929,4467,3642,2790,3470,4655,1327,3014,3828,4231,1743,4003,1571,3226,2132,5125,1585,2300,4493,\n",
    "                2764,3484,2556,3219,4800,3817,1318,1916,4458,2569,3689,1788,2931,4207,1775,3022,3210,4035,1547,\n",
    "                4809,3674,4451,4663,1311,2594,3446,2752,3680,4697,2560,1781,2104,2938,2336,5113,3479,1920,2799,\n",
    "                1578,4836,3821,4238,2309,2907,2331,5114,1786,2103,4690,2567,2755,3687,4664,1316,2593,3441,3673,\n",
    "                4456,1918,3217,4032,1540,4200,1772,3025,3819,2558,2900,3826,4831,3228,4469,1927,1329,5109,2922,\n",
    "                2748,4679,1905,4813,3038,3804,2777,4480,3497,2545,2121,2313,5136,1596,4222,1750,3007,3235,4010,\n",
    "                1562,3651,2783,4474,4646,1334,3463,3803,1768,4028,4814,1902,3669,2589,2119,2925,4641,1333,3464,\n",
    "                3656,2784,4473,3232,4017,1565,4225,1757,3000,2314,5131,1591,2126,3490,2542,2770,4487,1934,4648,\n",
    "                3009,3835,4822,2913,5138,1598,2779,3499,4021,1553,3204,3036,4213,1761,2580,3452,4677,1305,4445,\n",
    "                3660,2574,4683,2746,3694,5107,2322,2110,1795,4489,2128,2914,4019,4825,1759,3832,3658,1933,2117,\n",
    "                1792,5100,2325,2741,3693,2573,4684,4442,3667,2587,3455,4670,1302,3031,4214,1766,4026,1554,3203,\n",
    "                2371,5154,4086,3091,2143,2527,2715,1356,4624,3401,3633,4416,1958,3257,2385,1500,4072,1732,4240,\n",
    "                3859,3065,1993,2518,3892,2940,4885,3866,2188,4871,3268,4429,1967,1369,1735,4247,3062,3250,2382,\n",
    "                1507,4849,4075,3634,4411,1351,4623,3406,2712,2520,2978,3096,2144,2376,5153,4081,3439,1960,1538,\n",
    "                4876,5198,3861,4278,4882,2349,3895,2947,1994,1969,4427,3602,3430,1367,4615,3868,2186,3054,1703,\n",
    "                4271,1531,4043,5191,3266,2172,4285,5165,2340,3292,2724,2516,1393,3259,4840,2985,3857,1358,1956,\n",
    "                4418,2529,4088,2971,2511,1394,2723,5162,2347,3295,2949,2175,4282,4878,1536,4044,5196,3261,2181,\n",
    "                3053,1704,4276,3437,1360,4612,4420,3605,2976,3098,2378,1951,3408,4249,2982,3850,4847,1509,1758,\n",
    "                3833,4824,4018,3659,1932,4488,2915,2129,2586,3454,1303,4671,4443,3666,1555,4027,3202,3030,1767,\n",
    "                4215,5101,2324,2116,1793,2572,4685,2740,3692,1599,5139,2912,3498,2778,4649,1935,4823,3834,3008,\n",
    "                2747,3695,2575,4682,2111,1794,5106,2323]\n",
    "\n",
    "testing_faces = [3037,1760,4212,1552,4020,3205,4444,3661,2581,3453,1304,4676,2924,2118,4815,4029,3802,1769,2588,\n",
    "              1903,3668,2127,2315,1590,5130,2771,4486,3491,2543,3657,2785,4472,1332,4640,3465,1756,4224,3001,3233,\n",
    "              1564,4016,1904,4678,3805,3039,4812,2923,5108,2749,3234,1563,4011,1751,4223,3006,1335,4647,3462,3650,\n",
    "              2782,4475,3496,2544,2776,4481,2312,1597,5137,2120,2180,3052,4277,1705,4045,5197,4879,1537,3260,4421,\n",
    "              3604,3436,4613,1361,2722,2510,1395,2174,2948,4283,5163,2346,3294,3409,1950,4846,1508,4248,2983,3851,\n",
    "              2379,3099,2977,5164,2341,3293,2173,4284,2517,1392,2725,3431,4614,1366,1968,4426,3603,4042,5190,1530,\n",
    "              3267,2187,3055,3869,4270,1702,2528,2970,4089,2984,3856,3258,4841,1957,4419,1359,2521,2713,2377,5152,\n",
    "              4080,3097,2145,2979,3251,2383,4074,1506,4848,4246,1734,3063,4622,1350,3407,3635,4410,3894,2946,4883,\n",
    "              2348,1995,1961,3438,3860,4279,5199,1539,4877,3632,4417,1959,4625,1357,3400,4241,1733,3064,3858,3256,\n",
    "              2384,4073,1501,3090,2142,2370,5155,4087,2714,2526,4870,3269,2189,3867,1368,4428,1966,2519,1992,4884,\n",
    "              3893,2941,5018,2833,2659,4768,1814,4902,3915,3129,2666,4591,2454,3586,5215,2030,2202,1487,5027,1641,\n",
    "              4333,3116,3324,1473,4101,2692,3740,4565,1225,4757,3572,3912,1679,4905,4139,1813,3778,2498,2834,2008,\n",
    "              4750,3575,2695,3747,4562,3323,1474,4106,1646,4334,3111,2205,1480,5020,5212,2037,2453,3581,2661,4596,\n",
    "              1825,4759,3924,3118,4933,2802,1489,5029,2668,3588,1442,4130,3315,3127,1670,4302,3543,2491,4766,4554,\n",
    "              3771,2465,4792,3785,2657,5016,2233,2001,1684,4598,2805,2039,4934,4108,1648,3923,3749,1822,2006,1683,\n",
    "              5011]"
   ]
  },
  {
   "cell_type": "markdown",
   "id": "a9e5ad8e-b9b8-49a7-894a-fa0bc3071b17",
   "metadata": {},
   "source": [
    "4.1 Calcular la mean face. Que es la cara con el promedio de los pixeles y \n",
    "visualizarla."
   ]
  },
  {
   "cell_type": "code",
   "execution_count": null,
   "id": "847e4967-bcc4-46a8-bba1-fa89fa3b2b0b",
   "metadata": {},
   "outputs": [],
   "source": [
    "def cargar_imagenes_binarias(ruta, nombres):\n",
    "    imagenes = []\n",
    "    for nombre in nombres:\n",
    "        ruta_completa = os.path.join(ruta, str(nombre))  \n",
    "        try:\n",
    "            with open(ruta_completa, \"rb\") as f:\n",
    "                bytes_read = f.read()\n",
    "\n",
    "                # Verificar si la imagen tiene el tamaño correcto (128x128 en escala de grises)\n",
    "                if len(bytes_read) != 128 * 128:\n",
    "                    print(f\"⚠ Archivo {nombre} tiene un tamaño incorrecto ({len(bytes_read)} bytes).\")\n",
    "                    continue\n",
    "\n",
    "                img = Image.frombytes(\"L\", (128, 128), bytes_read)\n",
    "                imagenes.append(np.array(img).flatten())\n",
    "\n",
    "        except Exception as e:\n",
    "            print(f\"⚠ No se pudo cargar {nombre}: {e}\")\n",
    "    return np.array(imagenes)\n",
    "\n",
    "\n",
    "def mostrar_imagen(datos, titulo=\"Mean face\"):\n",
    "    img = datos.reshape(128, 128)\n",
    "    plt.figure(figsize=(6, 6))  \n",
    "    plt.imshow(img, cmap=\"gray\") \n",
    "    plt.title(titulo, fontsize=14)\n",
    "    plt.show()  \n",
    "\n",
    "# Ruta donde están las imágenes binarias\n",
    "ruta_imagenes = \"data/faces/rawdata\"\n",
    "# Cargar imágenes binarias\n",
    "imagenes = cargar_imagenes_binarias(ruta_imagenes, train_faces)\n",
    "# Calcular la cara promedio si hay imágenes\n",
    "if len(imagenes) > 0:\n",
    "    cara_promedio = np.mean(imagenes, axis=0)\n",
    "    mostrar_imagen(cara_promedio, titulo=\"Imagen Promedio\")\n",
    "else:\n",
    "    print(\"⚠ No se pudieron cargar imágenes válidas.\")\n",
    "\n"
   ]
  },
  {
   "cell_type": "markdown",
   "id": "62d119bd-6062-4db5-bb71-53caaf25922c",
   "metadata": {},
   "source": [
    "4.2 Centrar los datos, utilizar PCA. ¿Cuántos componentes se deben utilizar \n",
    "para mantener el 95% de las características?. Crear una tabla para  \n",
    "mostrar las primeras 5 caras utilizando, la mean face + los datos \n",
    "reconstruidos utilizando la primera componente, después con 3 \n",
    "componentes, después con las primeras 20  componentes, después con \n",
    "las componentes que explican el 95% de la varianza y por último con el \n",
    "numero de componentes que tiene el 99% de la varianza. ¿Qué se puede \n",
    "concluir de los resultados?"
   ]
  },
  {
   "cell_type": "code",
   "execution_count": null,
   "id": "6156149c-2fab-4662-86e9-4451784524a7",
   "metadata": {},
   "outputs": [],
   "source": [
    "# Centrar los datos restando la media\n",
    "mean_face = np.mean(imagenes, axis=0)\n",
    "imagenes_centradas = imagenes - mean_face\n",
    "\n",
    "# Aplicar PCA\n",
    "pca = PCA()\n",
    "pca.fit(imagenes_centradas)\n",
    "# Obtener la varianza explicada acumulada\n",
    "varianza_acumulada = np.cumsum(pca.explained_variance_ratio_)\n",
    "\n",
    "# Encontrar el número de componentes para 95% y 99% de varianza\n",
    "n_95 = np.where(varianza_acumulada >= 0.95)[0][0] + 1\n",
    "n_99 = np.where(varianza_acumulada >= 0.99)[0][0] + 1\n",
    "\n",
    "print(f\"Número de componentes para 95% de varianza: {n_95}\")\n",
    "print(f\"Número de componentes para 99% de varianza: {n_99}\")"
   ]
  },
  {
   "cell_type": "code",
   "execution_count": null,
   "id": "2ca9c379-340e-42e6-ae37-243a84651170",
   "metadata": {},
   "outputs": [],
   "source": [
    "# Función para reconstruir imágenes con diferentes números de componentes\n",
    "def reconstruir_imagenes(pca, imagenes_centradas, mean_face, n_componentes):\n",
    "    proyeccion = pca.transform(imagenes_centradas)  # Proyectar en el nuevo espacio\n",
    "    proyeccion[:, n_componentes:] = 0  # Mantener solo las primeras n componentes\n",
    "    reconstruidas = pca.inverse_transform(proyeccion) + mean_face  # Reconstruir imágenes\n",
    "    return np.clip(reconstruidas, 0, 255)  # Asegurar valores válidos para imágenes\n",
    "\n",
    "# Seleccionar las primeras 5 imágenes\n",
    "imagenes_mostrar = imagenes[:5]\n",
    "\n",
    "# Reconstrucciones con diferentes números de componentes\n",
    "reconstrucciones = [\n",
    "    imagenes_mostrar,  \n",
    "    np.tile(mean_face, (5, 1)),  # Mean face replicada 5 veces\n",
    "    reconstruir_imagenes(pca, imagenes_centradas[:5], mean_face, 1),\n",
    "    reconstruir_imagenes(pca, imagenes_centradas[:5], mean_face, 3),\n",
    "    reconstruir_imagenes(pca, imagenes_centradas[:5], mean_face, 20),\n",
    "    reconstruir_imagenes(pca, imagenes_centradas[:5], mean_face, n_95),\n",
    "    reconstruir_imagenes(pca, imagenes_centradas[:5], mean_face, n_99)\n",
    "]\n",
    "\n",
    "titulos = [\"Original\", \"Mean Face\", \"1 comp.\", \"3 comp.\", \"20 comp.\", f\"{n_95} comp. (95%)\", f\"{n_99} comp. (99%)\"]\n",
    "\n",
    "# Graficar los resultados\n",
    "fig, axes = plt.subplots(nrows=5, ncols=len(titulos), figsize=(18, 10))\n",
    "\n",
    "for j in range(5):  # Iterar sobre las 5 imágenes\n",
    "    for i, (titulo, imagen_set) in enumerate(zip(titulos, reconstrucciones)):\n",
    "        img = imagen_set[j].reshape(128, 128)  # Asegurar forma correcta\n",
    "        axes[j, i].imshow(img, cmap=\"gray\")\n",
    "        axes[j, i].axis(\"off\")\n",
    "\n",
    "        # Agregar títulos en la primera fila (encabezados de columnas)\n",
    "        if j == 0:\n",
    "            axes[j, i].set_title(titulo, fontsize=12)\n",
    "\n",
    "plt.tight_layout()\n",
    "plt.show()\n"
   ]
  },
  {
   "cell_type": "markdown",
   "id": "bdd293b3-4362-4725-8e7f-a8b4fa1b0378",
   "metadata": {},
   "source": [
    "Conclusiones\n",
    "Se están tomando los componentes principales que aportan más características a la imagen, entre más componentes principales se utilicen, mejor será la calidad de la imagen reconstruida. En este sentido, el PCA optimiza el equilibrio entre eficiencia y precisión, haciendo posible trabajar con grandes volúmenes de datos de manera simplificada sin comprometer demasiado la calidad."
   ]
  },
  {
   "cell_type": "markdown",
   "id": "4b89e9cd-b9df-47ae-aea3-a849788a1d60",
   "metadata": {},
   "source": [
    "TESTING PARA Kaggle"
   ]
  },
  {
   "cell_type": "code",
   "execution_count": null,
   "id": "b6e350d2-d4de-4010-8fb7-93a1a90b103c",
   "metadata": {},
   "outputs": [],
   "source": [
    "import os\n",
    "import numpy as np\n",
    "import pandas as pd\n",
    "\n",
    "def cargar_imagenes_binarias(ruta, nombres):\n",
    "    \"\"\"Carga imágenes binarias verificando que los archivos existan y muestra cuántos faltan.\"\"\"\n",
    "    nombres_validos = [n for n in nombres if os.path.exists(os.path.join(ruta, str(n)))]\n",
    "    nombres_faltantes = set(nombres) - set(nombres_validos)\n",
    "\n",
    "    if nombres_faltantes:\n",
    "        print(f\"⚠ {len(nombres_faltantes)} archivos no encontrados en '{ruta}'.\")\n",
    "\n",
    "    return np.array([\n",
    "        np.frombuffer(open(os.path.join(ruta, str(n)), \"rb\").read(), dtype=np.uint8) \n",
    "        for n in nombres_validos\n",
    "    ]), nombres_validos\n",
    "\n",
    "ruta_imagenes = \"data/faces/rawdata\"\n",
    "\n",
    "# Filtrar imágenes existentes\n",
    "Te, testing_faces_valid = cargar_imagenes_binarias(ruta_imagenes, testing_faces)\n",
    "\n",
    "print(f\"🔍 Cargadas {len(Te)} de {len(testing_faces)} imágenes de testing.\")\n",
    "\n",
    "# Aplicar PCA (solo con el modelo entrenado en training)\n",
    "Te_proj = pca.transform(Te)\n",
    "\n",
    "# Obtener la primera componente principal\n",
    "first_comps = Te_proj[:, 0]\n",
    "\n",
    "# Verificar que los datos sean del mismo tamaño\n",
    "assert len(testing_faces_valid) == len(first_comps), \"Error: Diferente número de etiquetas y componentes.\"\n",
    "\n",
    "# Guardar el CSV con la primera componente de testing\n",
    "output = pd.DataFrame({\n",
    "    'id': testing_faces_valid,\n",
    "    'label': first_comps\n",
    "})\n",
    "\n",
    "output.to_csv('faces_.csv', index=False)\n",
    "print(\"✅ Archivo faces_.csv generado correctamente.\")"
   ]
  },
  {
   "cell_type": "markdown",
   "id": "f79ccae0-a086-4d1d-a88d-fe67b48df44d",
   "metadata": {},
   "source": [
    "5 Utilizando el dataset del amazon  data/amazon_products.csv crear: Utilizar la \n",
    "librería de plotly. "
   ]
  },
  {
   "cell_type": "code",
   "execution_count": null,
   "id": "a8783241-e36d-4ead-85fe-3d2827e8d91d",
   "metadata": {},
   "outputs": [],
   "source": [
    "dfa = pd.read_csv('data/amazon_product.csv')"
   ]
  },
  {
   "cell_type": "markdown",
   "id": "7e5c6d30-cb26-4fca-aa63-2b42ad26653a",
   "metadata": {},
   "source": [
    "5.1 Distribución de cada variables: "
   ]
  },
  {
   "cell_type": "markdown",
   "id": "2d361df2-f63c-4685-ab38-4d44ef9dc4bf",
   "metadata": {},
   "source": [
    "5.1.1. Para las variables categóricas un gráfico de barras.  Categoría \n",
    "numero de observaciones. "
   ]
  },
  {
   "cell_type": "code",
   "execution_count": null,
   "id": "281bdac7-829f-4273-ab3d-7a1f24f32219",
   "metadata": {},
   "outputs": [],
   "source": [
    "import re\n",
    "#variables categoricas y numericas\n",
    "numerical_cols = [\"product_price\",\"product_original_price\",\"product_star_rating\",\"product_num_ratings\",\"product_num_offers\",\"product_minimum_offer_price\",\"sales_volume\",\"unit_price\",\"unit_count\"]\n",
    "categorical_cols = [\"currency\",\"is_best_seller\",\"is_amazon_choice\",\"is_prime\",\"climate_pledge_friendly\",\"has_variations\"]\n",
    "\n",
    "def sanitize_sales_volume(value):\n",
    "    match = re.search(r'(\\d+(?:\\.\\d+)?)(K?)\\+?', str(value)) \n",
    "    if match:\n",
    "        num = float(match.group(1)) \n",
    "        if match.group(2) == \"K\":\n",
    "            num *= 1000\n",
    "        return num\n",
    "    return 0\n",
    "    \n",
    "dfa[\"sales_volume\"] = dfa[\"sales_volume\"].apply(sanitize_sales_volume)\n",
    "cols_to_clean = [\"product_price\", \"product_original_price\", \"product_minimum_offer_price\", \"unit_price\"]\n",
    "for col in cols_to_clean:\n",
    "    dfa[col] = pd.to_numeric(dfa[col].astype(str).str.replace(r'[^\\d.]', '', regex=True), errors='coerce').fillna(0)"
   ]
  },
  {
   "cell_type": "code",
   "execution_count": null,
   "id": "aa913e44-6555-4be5-8c48-dd01db95f706",
   "metadata": {},
   "outputs": [],
   "source": [
    "#grafico de barras variables categoricas \n",
    "for col in categorical_cols:\n",
    "    fig = px.bar(dfa[col].value_counts().reset_index(), x=dfa[col].value_counts().index, y=dfa[col].value_counts().values, \n",
    "             labels={'x': col, 'y': 'Cantidad'}, title=f\"Distribución de {col}\")\n",
    "    fig.show()"
   ]
  },
  {
   "cell_type": "markdown",
   "id": "794a398e-b87c-4ced-8da0-0bb60b4a968c",
   "metadata": {},
   "source": [
    "5.1.2. \n",
    "Para las variables numéricas crear histogramas. Listar los \n",
    "productos que están más lejos de 5 estándares de desviación, y \n",
    "serían considerados outliers. Hacer test de si es una distribución \n",
    "normal o no. "
   ]
  },
  {
   "cell_type": "code",
   "execution_count": null,
   "id": "0d06588c-e5e4-4fab-a76c-08d4af656c06",
   "metadata": {},
   "outputs": [],
   "source": [
    "#histograma variables numericas\n",
    "for col in numerical_cols:\n",
    "    fig = px.histogram(dfa, x=col, title=f\"Histograma de {col}\", nbins=30)\n",
    "    fig.show()"
   ]
  },
  {
   "cell_type": "markdown",
   "id": "2c9049a4-c546-44da-8681-34199fcc9881",
   "metadata": {},
   "source": [
    "5.1.2 Para las variables numéricas crear histogramas. Listar los \n",
    "productos que están más lejos de 5 estándares de desviación, y serían considerados outliers. Hacer test de si es una distribución \n",
    "normal o no. \n"
   ]
  },
  {
   "cell_type": "code",
   "execution_count": null,
   "id": "0608dc1e-b3ee-4752-8573-ca7e960ac8bc",
   "metadata": {},
   "outputs": [],
   "source": [
    "# Identificar outliers (más de 5 desviaciones estándar)\n",
    "for col in numerical_cols:\n",
    "    mean, std = dfa[col].mean(), dfa[col].std()\n",
    "    outliers = dfa[np.abs(dfa[col] - mean) > 5 * std][[\"asin\", col]]\n",
    "    if not outliers.empty:\n",
    "        print(f\"Outliers en {col}:\\n\", outliers.to_string(index=False), \"\\n\", \"-\"*50)"
   ]
  },
  {
   "cell_type": "code",
   "execution_count": null,
   "id": "6640dfef-8729-4169-ab52-cf24f6635e13",
   "metadata": {},
   "outputs": [],
   "source": [
    "# Test de normalidad\n",
    "for col in numerical_cols:\n",
    "    stat, p = shapiro(dfa[col].dropna())\n",
    "    print(f\"Test de Shapiro-Wilk para {col}: p-value = {p}\")\n",
    "    if p < 0.05:\n",
    "        print(\"  -> No es normal\\n\")\n",
    "    else:\n",
    "        print(\"  -> Normal\\n\")\n"
   ]
  },
  {
   "cell_type": "markdown",
   "id": "7f04bcdd-65b7-44f9-9e40-30c463ebcc5c",
   "metadata": {},
   "source": [
    "5.2 Gráfico de la relación de cada variable con respecto al sales_volume (convertir a \n",
    "numero): "
   ]
  },
  {
   "cell_type": "markdown",
   "id": "68fd64bf-816e-4ddf-8606-59340eca4db1",
   "metadata": {},
   "source": [
    "5.2.1.  Variables categóricas debes crear un boxplot. Explique cómo \n",
    "interpreta el gráfico "
   ]
  },
  {
   "cell_type": "code",
   "execution_count": null,
   "id": "becee3ef-7e96-449f-a3ec-36e7ead24f58",
   "metadata": {},
   "outputs": [],
   "source": [
    "# 5.2.1 - Boxplots para variables categóricas respecto a sales_volume\n",
    "for col in categorical_cols:\n",
    "    fig = px.box(dfa, x=col, y=\"sales_volume\", title=f\"Boxplot de {col} vs Sales Volume\")\n",
    "    fig.show()"
   ]
  },
  {
   "cell_type": "markdown",
   "id": "0bfa74ba-65b2-4fee-bac8-b14959be2d0d",
   "metadata": {},
   "source": [
    "Comparando categorías, se puede identificar si unas presentan volúmenes de ventas consistentemente más altos o con menor dispersión, lo que indica una influencia del factor categórico sobre el desempeño de ventas (productos que son amigables con el medio ambiente y lo que son Amazon Choice)."
   ]
  },
  {
   "cell_type": "markdown",
   "id": "dce9ccc5-3936-4e0f-806c-a82054c97751",
   "metadata": {},
   "source": [
    "5.2.2 Variables numéricas vas a crear un scatter plot.Explique cómo \n",
    "interpreta el gráfico"
   ]
  },
  {
   "cell_type": "code",
   "execution_count": null,
   "id": "a9b19c09-32d3-4221-8f78-5c370e03d82a",
   "metadata": {},
   "outputs": [],
   "source": [
    "# 5.2.2 - Scatter plots para variables numéricas respecto a sales_volume\n",
    "for col in numerical_cols:\n",
    "    if col != \"sales_volume\":\n",
    "        fig = px.scatter(dfa, x=col, y=\"sales_volume\", title=f\"Scatter plot de {col} vs Sales Volume\")\n",
    "        fig.show()"
   ]
  },
  {
   "cell_type": "markdown",
   "id": "170a9b94-9c48-413b-a853-cf9b7b8c8457",
   "metadata": {},
   "source": [
    "Al interpretar el gráfico, se observa si existe una tendencia en el que el volumen de ventas es alto para las vairables numéricas con un valor bajo"
   ]
  },
  {
   "cell_type": "markdown",
   "id": "24a7d210-05f0-4717-bd25-ab797283e7b5",
   "metadata": {},
   "source": [
    "5.3 Matriz de correlación. "
   ]
  },
  {
   "cell_type": "markdown",
   "id": "c8e194bd-7da6-4374-b92a-a6289c444297",
   "metadata": {},
   "source": [
    "5.3.1 Cree la matriz de correlación, cuales son las variables más \n",
    "importantes para explicar la variabilidad de las sales_volume. \n",
    "Explique por qué el coeficiente es negativo o positivo. "
   ]
  },
  {
   "cell_type": "code",
   "execution_count": null,
   "id": "2b4ffcb9-95ad-4f4f-bc17-fa2e198f6f37",
   "metadata": {},
   "outputs": [],
   "source": [
    "correlation_matrix = dfa[numerical_cols].corr()\n",
    "fig = px.imshow(correlation_matrix, text_auto=True, title=\"Matriz de Correlación\")\n",
    "fig.show()\n",
    "correlation_with_sales = correlation_matrix[\"sales_volume\"].drop(\"sales_volume\").sort_values(ascending=False)\n",
    "print(\"Variables más importantes para sales_volume:\")\n",
    "print(correlation_with_sales)"
   ]
  },
  {
   "cell_type": "markdown",
   "id": "6f544b53-e803-464c-bbb2-5e9e78843852",
   "metadata": {},
   "source": [
    "El precio unitario y el conteo por unidad son las variables que capturan la mayor parte de la variabilidad del volumen de ventas.\n",
    "El coeficiente es positivo cuando, al aumentar la variable independiente, la dependiente también aumenta; es negativo cuando, al crecer la independiente, la dependiente disminuye."
   ]
  },
  {
   "cell_type": "markdown",
   "id": "7aa45a9a-b679-4db0-b2f2-4197d6a7bc35",
   "metadata": {},
   "source": [
    "5.3.2 Cree las dummy variables para todas las variables categóricas y \n",
    "genere la matriz de correlación nuevamente. ¿Cuál es el valor de \n",
    "variable categórica con mayor correlación? "
   ]
  },
  {
   "cell_type": "code",
   "execution_count": null,
   "id": "41f2d008-b507-4cac-8c24-644281820d5c",
   "metadata": {},
   "outputs": [],
   "source": [
    "# Crear variables dummy\n",
    "df_dummies = pd.get_dummies(dfa[categorical_cols].drop(columns=[\"currency\"]))\n",
    "correlation_matrix_dummies = df_dummies.corr()\n",
    "fig = px.imshow(correlation_matrix_dummies, text_auto=True, title=\"Matriz de Correlación con Dummies\")\n",
    "fig.show()"
   ]
  },
  {
   "cell_type": "markdown",
   "id": "e1aa32d7-3567-4308-ada4-bffcca4186c8",
   "metadata": {},
   "source": [
    "La mayor correlación entre las variables dummy es de 0.3355778 y se presenta entre \"climate_pledge_friendly\" y \"has_variations\"."
   ]
  },
  {
   "cell_type": "markdown",
   "id": "382d1352-fdcd-488c-8e1e-9bc087e96271",
   "metadata": {},
   "source": [
    "5.3.3 Utilizar python para imputar los valores nulos con la media. \n",
    "Después dividir los datos en train y test. Por ultimo hacer una \n",
    "regresión entre x que es product_num_ratings y y product_star_rating qué es la calificación. Cual es el coeficiente b1 \n",
    "y b0.  Describir resultados."
   ]
  },
  {
   "cell_type": "code",
   "execution_count": null,
   "id": "9f62e947-8dfe-4349-afd7-1f67647e89e9",
   "metadata": {},
   "outputs": [],
   "source": [
    "# Seleccionar variables\n",
    "X = dfa[[\"product_num_ratings\"]]\n",
    "y = dfa[\"product_star_rating\"]\n",
    "\n",
    "# Imputar valores nulos con la media\n",
    "imputer = SimpleImputer(strategy=\"mean\")\n",
    "X = imputer.fit_transform(X)\n",
    "y = imputer.fit_transform(y.values.reshape(-1, 1)).ravel()\n",
    "\n",
    "# Dividir en train y test (80% - 20%)\n",
    "X_train, X_test, y_train, y_test = train_test_split(X, y, test_size=0.2, random_state=42)\n",
    "\n",
    "# Crear y entrenar el modelo de regresión\n",
    "model = LinearRegression()\n",
    "model.fit(X_train, y_train)\n",
    "\n",
    "# Obtener coeficientes\n",
    "b0 = model.intercept_\n",
    "b1 = model.coef_[0]\n",
    "\n",
    "print(f\"Coeficiente b0 (intercepto): {b0:.4f}\")\n",
    "print(f\"Coeficiente b1 (pendiente): {b1:.4f}\")\n"
   ]
  },
  {
   "cell_type": "markdown",
   "id": "5b90f642-5255-4f55-926b-5cbd870bb9b0",
   "metadata": {},
   "source": [
    "Se observa que la línea de regresión, obtenida a partir del 80% de los datos de entrenamiento, predice de manera precisa los valores del conjunto de testing. Los datos de testing se ajustan bien a la tendencia marcada por el modelo, lo que indica una buena capacidad de generalización y desempeño del modelo."
   ]
  }
 ],
 "metadata": {
  "kernelspec": {
   "display_name": "Python 3 (ipykernel)",
   "language": "python",
   "name": "python3"
  },
  "language_info": {
   "codemirror_mode": {
    "name": "ipython",
    "version": 3
   },
   "file_extension": ".py",
   "mimetype": "text/x-python",
   "name": "python",
   "nbconvert_exporter": "python",
   "pygments_lexer": "ipython3",
   "version": "3.13.1"
  }
 },
 "nbformat": 4,
 "nbformat_minor": 5
}
